{
 "cells": [
  {
   "cell_type": "markdown",
   "metadata": {},
   "source": [
    "#<center>Shopify Data Science Challenge
   ]
  },
  {
   "cell_type": "markdown",
   "metadata": {},
   "source": [
    "<p align=\"center\">\n",
    "    <img src=\"https://user-images.githubusercontent.com/63667951/133675379-6c703fd6-9910-4776-8483-b53b8c4ab28d.png\" width=\"600\" height=\"400\" align=/>\n",
    "</p>\n"
   ]
  },
  {
   "cell_type": "markdown",
   "metadata": {},
   "source": [
    "## *Question 1*"
   ]
  },
  {
   "cell_type": "markdown",
   "metadata": {},
   "source": [
    "### Problem"
   ]
  },
  {
   "cell_type": "markdown",
   "metadata": {},
   "source": [
    "On Shopify, we have exactly 100 sneaker shops, and each of these shops sells only one model of shoe. We want to do some analysis of the average order value (AOV). When we look at orders data over a 30 day window, we naively calculate an AOV of $3145.13. Given that we know these shops are selling sneakers, a relatively affordable item, something seems wrong with our analysis. "
   ]
  },
  {
   "cell_type": "markdown",
   "metadata": {},
   "source": [
    "### Load Packages"
   ]
  },
  {
   "cell_type": "markdown",
   "metadata": {},
   "source": [
    "The pandas packages will be useful for visualizing the data in a dataframe as well as analyzing and manipulating the data.<br> \n",
    "The numpy package will be used for performing arithmatic operations.<br>\n",
    "The matplotlib package will be used for creating visualizations of the data."
   ]
  },
  {
   "cell_type": "code",
   "execution_count": 170,
   "metadata": {},
   "outputs": [],
   "source": [
    "import pandas as pd\n",
    "import numpy as np\n",
    "import matplotlib.pyplot as plt\n",
    "import seaborn as sns"
   ]
  },
  {
   "cell_type": "markdown",
   "metadata": {},
   "source": [
    "### Load Data"
   ]
  },
  {
   "cell_type": "code",
   "execution_count": 171,
   "metadata": {
    "scrolled": true
   },
   "outputs": [
    {
     "data": {
      "text/html": [
       "<div>\n",
       "<style scoped>\n",
       "    .dataframe tbody tr th:only-of-type {\n",
       "        vertical-align: middle;\n",
       "    }\n",
       "\n",
       "    .dataframe tbody tr th {\n",
       "        vertical-align: top;\n",
       "    }\n",
       "\n",
       "    .dataframe thead th {\n",
       "        text-align: right;\n",
       "    }\n",
       "</style>\n",
       "<table border=\"1\" class=\"dataframe\">\n",
       "  <thead>\n",
       "    <tr style=\"text-align: right;\">\n",
       "      <th></th>\n",
       "      <th>order_id</th>\n",
       "      <th>shop_id</th>\n",
       "      <th>user_id</th>\n",
       "      <th>order_amount</th>\n",
       "      <th>total_items</th>\n",
       "      <th>payment_method</th>\n",
       "      <th>created_at</th>\n",
       "    </tr>\n",
       "  </thead>\n",
       "  <tbody>\n",
       "    <tr>\n",
       "      <th>0</th>\n",
       "      <td>1</td>\n",
       "      <td>53</td>\n",
       "      <td>746</td>\n",
       "      <td>224</td>\n",
       "      <td>2</td>\n",
       "      <td>cash</td>\n",
       "      <td>2017-03-13 12:36:56</td>\n",
       "    </tr>\n",
       "    <tr>\n",
       "      <th>1</th>\n",
       "      <td>2</td>\n",
       "      <td>92</td>\n",
       "      <td>925</td>\n",
       "      <td>90</td>\n",
       "      <td>1</td>\n",
       "      <td>cash</td>\n",
       "      <td>2017-03-03 17:38:52</td>\n",
       "    </tr>\n",
       "    <tr>\n",
       "      <th>2</th>\n",
       "      <td>3</td>\n",
       "      <td>44</td>\n",
       "      <td>861</td>\n",
       "      <td>144</td>\n",
       "      <td>1</td>\n",
       "      <td>cash</td>\n",
       "      <td>2017-03-14 4:23:56</td>\n",
       "    </tr>\n",
       "    <tr>\n",
       "      <th>3</th>\n",
       "      <td>4</td>\n",
       "      <td>18</td>\n",
       "      <td>935</td>\n",
       "      <td>156</td>\n",
       "      <td>1</td>\n",
       "      <td>credit_card</td>\n",
       "      <td>2017-03-26 12:43:37</td>\n",
       "    </tr>\n",
       "    <tr>\n",
       "      <th>4</th>\n",
       "      <td>5</td>\n",
       "      <td>18</td>\n",
       "      <td>883</td>\n",
       "      <td>156</td>\n",
       "      <td>1</td>\n",
       "      <td>credit_card</td>\n",
       "      <td>2017-03-01 4:35:11</td>\n",
       "    </tr>\n",
       "    <tr>\n",
       "      <th>...</th>\n",
       "      <td>...</td>\n",
       "      <td>...</td>\n",
       "      <td>...</td>\n",
       "      <td>...</td>\n",
       "      <td>...</td>\n",
       "      <td>...</td>\n",
       "      <td>...</td>\n",
       "    </tr>\n",
       "    <tr>\n",
       "      <th>4995</th>\n",
       "      <td>4996</td>\n",
       "      <td>73</td>\n",
       "      <td>993</td>\n",
       "      <td>330</td>\n",
       "      <td>2</td>\n",
       "      <td>debit</td>\n",
       "      <td>2017-03-30 13:47:17</td>\n",
       "    </tr>\n",
       "    <tr>\n",
       "      <th>4996</th>\n",
       "      <td>4997</td>\n",
       "      <td>48</td>\n",
       "      <td>789</td>\n",
       "      <td>234</td>\n",
       "      <td>2</td>\n",
       "      <td>cash</td>\n",
       "      <td>2017-03-16 20:36:16</td>\n",
       "    </tr>\n",
       "    <tr>\n",
       "      <th>4997</th>\n",
       "      <td>4998</td>\n",
       "      <td>56</td>\n",
       "      <td>867</td>\n",
       "      <td>351</td>\n",
       "      <td>3</td>\n",
       "      <td>cash</td>\n",
       "      <td>2017-03-19 5:42:42</td>\n",
       "    </tr>\n",
       "    <tr>\n",
       "      <th>4998</th>\n",
       "      <td>4999</td>\n",
       "      <td>60</td>\n",
       "      <td>825</td>\n",
       "      <td>354</td>\n",
       "      <td>2</td>\n",
       "      <td>credit_card</td>\n",
       "      <td>2017-03-16 14:51:18</td>\n",
       "    </tr>\n",
       "    <tr>\n",
       "      <th>4999</th>\n",
       "      <td>5000</td>\n",
       "      <td>44</td>\n",
       "      <td>734</td>\n",
       "      <td>288</td>\n",
       "      <td>2</td>\n",
       "      <td>debit</td>\n",
       "      <td>2017-03-18 15:48:18</td>\n",
       "    </tr>\n",
       "  </tbody>\n",
       "</table>\n",
       "<p>5000 rows × 7 columns</p>\n",
       "</div>"
      ],
      "text/plain": [
       "      order_id  shop_id  user_id  order_amount  total_items payment_method  \\\n",
       "0            1       53      746           224            2           cash   \n",
       "1            2       92      925            90            1           cash   \n",
       "2            3       44      861           144            1           cash   \n",
       "3            4       18      935           156            1    credit_card   \n",
       "4            5       18      883           156            1    credit_card   \n",
       "...        ...      ...      ...           ...          ...            ...   \n",
       "4995      4996       73      993           330            2          debit   \n",
       "4996      4997       48      789           234            2           cash   \n",
       "4997      4998       56      867           351            3           cash   \n",
       "4998      4999       60      825           354            2    credit_card   \n",
       "4999      5000       44      734           288            2          debit   \n",
       "\n",
       "               created_at  \n",
       "0     2017-03-13 12:36:56  \n",
       "1     2017-03-03 17:38:52  \n",
       "2      2017-03-14 4:23:56  \n",
       "3     2017-03-26 12:43:37  \n",
       "4      2017-03-01 4:35:11  \n",
       "...                   ...  \n",
       "4995  2017-03-30 13:47:17  \n",
       "4996  2017-03-16 20:36:16  \n",
       "4997   2017-03-19 5:42:42  \n",
       "4998  2017-03-16 14:51:18  \n",
       "4999  2017-03-18 15:48:18  \n",
       "\n",
       "[5000 rows x 7 columns]"
      ]
     },
     "execution_count": 171,
     "metadata": {},
     "output_type": "execute_result"
    }
   ],
   "source": [
    "df = pd.read_csv(r\"C:\\Users\\18632\\Downloads\\2019 Winter Data Science Intern Challenge Data Set - Sheet1.csv\")\n",
    "df"
   ]
  },
  {
   "cell_type": "markdown",
   "metadata": {},
   "source": [
    "### Explore Data"
   ]
  },
  {
   "cell_type": "code",
   "execution_count": 172,
   "metadata": {},
   "outputs": [
    {
     "data": {
      "text/plain": [
       "3145.128"
      ]
     },
     "execution_count": 172,
     "metadata": {},
     "output_type": "execute_result"
    }
   ],
   "source": [
    "df['order_amount'].sum()/df['order_id'].count()"
   ]
  },
  {
   "cell_type": "markdown",
   "metadata": {},
   "source": [
    "Currently, the Average order value is found by dividing the total number of orders by the grand total order amount, resulting in a AOV of $3,145.\n",
    "\n",
    "However, this does not realistically reflect the average amount of dollars spent by each customer per order."
   ]
  },
  {
   "cell_type": "code",
   "execution_count": 173,
   "metadata": {},
   "outputs": [
    {
     "data": {
      "text/plain": [
       "(5000, 7)"
      ]
     },
     "execution_count": 173,
     "metadata": {},
     "output_type": "execute_result"
    }
   ],
   "source": [
    "df.shape"
   ]
  },
  {
   "cell_type": "code",
   "execution_count": 174,
   "metadata": {},
   "outputs": [
    {
     "name": "stdout",
     "output_type": "stream",
     "text": [
      "<class 'pandas.core.frame.DataFrame'>\n",
      "RangeIndex: 5000 entries, 0 to 4999\n",
      "Data columns (total 7 columns):\n",
      " #   Column          Non-Null Count  Dtype \n",
      "---  ------          --------------  ----- \n",
      " 0   order_id        5000 non-null   int64 \n",
      " 1   shop_id         5000 non-null   int64 \n",
      " 2   user_id         5000 non-null   int64 \n",
      " 3   order_amount    5000 non-null   int64 \n",
      " 4   total_items     5000 non-null   int64 \n",
      " 5   payment_method  5000 non-null   object\n",
      " 6   created_at      5000 non-null   object\n",
      "dtypes: int64(5), object(2)\n",
      "memory usage: 273.6+ KB\n"
     ]
    }
   ],
   "source": [
    "df.info()"
   ]
  },
  {
   "cell_type": "code",
   "execution_count": 175,
   "metadata": {},
   "outputs": [
    {
     "data": {
      "text/html": [
       "<div>\n",
       "<style scoped>\n",
       "    .dataframe tbody tr th:only-of-type {\n",
       "        vertical-align: middle;\n",
       "    }\n",
       "\n",
       "    .dataframe tbody tr th {\n",
       "        vertical-align: top;\n",
       "    }\n",
       "\n",
       "    .dataframe thead th {\n",
       "        text-align: right;\n",
       "    }\n",
       "</style>\n",
       "<table border=\"1\" class=\"dataframe\">\n",
       "  <thead>\n",
       "    <tr style=\"text-align: right;\">\n",
       "      <th></th>\n",
       "      <th>order_id</th>\n",
       "      <th>shop_id</th>\n",
       "      <th>user_id</th>\n",
       "      <th>order_amount</th>\n",
       "      <th>total_items</th>\n",
       "    </tr>\n",
       "  </thead>\n",
       "  <tbody>\n",
       "    <tr>\n",
       "      <th>count</th>\n",
       "      <td>5000.000000</td>\n",
       "      <td>5000.000000</td>\n",
       "      <td>5000.000000</td>\n",
       "      <td>5000.000000</td>\n",
       "      <td>5000.00000</td>\n",
       "    </tr>\n",
       "    <tr>\n",
       "      <th>mean</th>\n",
       "      <td>2500.500000</td>\n",
       "      <td>50.078800</td>\n",
       "      <td>849.092400</td>\n",
       "      <td>3145.128000</td>\n",
       "      <td>8.78720</td>\n",
       "    </tr>\n",
       "    <tr>\n",
       "      <th>std</th>\n",
       "      <td>1443.520003</td>\n",
       "      <td>29.006118</td>\n",
       "      <td>87.798982</td>\n",
       "      <td>41282.539349</td>\n",
       "      <td>116.32032</td>\n",
       "    </tr>\n",
       "    <tr>\n",
       "      <th>min</th>\n",
       "      <td>1.000000</td>\n",
       "      <td>1.000000</td>\n",
       "      <td>607.000000</td>\n",
       "      <td>90.000000</td>\n",
       "      <td>1.00000</td>\n",
       "    </tr>\n",
       "    <tr>\n",
       "      <th>25%</th>\n",
       "      <td>1250.750000</td>\n",
       "      <td>24.000000</td>\n",
       "      <td>775.000000</td>\n",
       "      <td>163.000000</td>\n",
       "      <td>1.00000</td>\n",
       "    </tr>\n",
       "    <tr>\n",
       "      <th>50%</th>\n",
       "      <td>2500.500000</td>\n",
       "      <td>50.000000</td>\n",
       "      <td>849.000000</td>\n",
       "      <td>284.000000</td>\n",
       "      <td>2.00000</td>\n",
       "    </tr>\n",
       "    <tr>\n",
       "      <th>75%</th>\n",
       "      <td>3750.250000</td>\n",
       "      <td>75.000000</td>\n",
       "      <td>925.000000</td>\n",
       "      <td>390.000000</td>\n",
       "      <td>3.00000</td>\n",
       "    </tr>\n",
       "    <tr>\n",
       "      <th>max</th>\n",
       "      <td>5000.000000</td>\n",
       "      <td>100.000000</td>\n",
       "      <td>999.000000</td>\n",
       "      <td>704000.000000</td>\n",
       "      <td>2000.00000</td>\n",
       "    </tr>\n",
       "  </tbody>\n",
       "</table>\n",
       "</div>"
      ],
      "text/plain": [
       "          order_id      shop_id      user_id   order_amount  total_items\n",
       "count  5000.000000  5000.000000  5000.000000    5000.000000   5000.00000\n",
       "mean   2500.500000    50.078800   849.092400    3145.128000      8.78720\n",
       "std    1443.520003    29.006118    87.798982   41282.539349    116.32032\n",
       "min       1.000000     1.000000   607.000000      90.000000      1.00000\n",
       "25%    1250.750000    24.000000   775.000000     163.000000      1.00000\n",
       "50%    2500.500000    50.000000   849.000000     284.000000      2.00000\n",
       "75%    3750.250000    75.000000   925.000000     390.000000      3.00000\n",
       "max    5000.000000   100.000000   999.000000  704000.000000   2000.00000"
      ]
     },
     "execution_count": 175,
     "metadata": {},
     "output_type": "execute_result"
    }
   ],
   "source": [
    "df.describe()"
   ]
  },
  {
   "cell_type": "code",
   "execution_count": 176,
   "metadata": {},
   "outputs": [
    {
     "data": {
      "text/plain": [
       "order_id          False\n",
       "shop_id           False\n",
       "user_id           False\n",
       "order_amount      False\n",
       "total_items       False\n",
       "payment_method    False\n",
       "created_at        False\n",
       "dtype: bool"
      ]
     },
     "execution_count": 176,
     "metadata": {},
     "output_type": "execute_result"
    }
   ],
   "source": [
    "df.isnull().any()"
   ]
  },
  {
   "cell_type": "code",
   "execution_count": 177,
   "metadata": {},
   "outputs": [
    {
     "data": {
      "image/png": "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\n",
      "text/plain": [
       "<Figure size 720x576 with 6 Axes>"
      ]
     },
     "metadata": {
      "needs_background": "light"
     },
     "output_type": "display_data"
    }
   ],
   "source": [
    "%matplotlib inline\n",
    "df.hist(bins=50, figsize=(10,8));"
   ]
  },
  {
   "cell_type": "markdown",
   "metadata": {},
   "source": [
    "I want to take a closer look at the distribution of the order amount to see if there are any outliers in the data."
   ]
  },
  {
   "cell_type": "markdown",
   "metadata": {},
   "source": [
    "<a id=#order_amount_boxplot></a>"
   ]
  },
  {
   "cell_type": "code",
   "execution_count": 178,
   "metadata": {},
   "outputs": [
    {
     "data": {
      "image/png": "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\n",
      "text/plain": [
       "<Figure size 576x432 with 1 Axes>"
      ]
     },
     "metadata": {
      "needs_background": "light"
     },
     "output_type": "display_data"
    }
   ],
   "source": [
    "plt1 = df.boxplot(column=['order_amount'], vert=False, figsize=(8,6))\n",
    "#plt.ylim(ymin = 0, ymax = 1000)\n",
    "#plt.ylabel(\"Order Amount\")\n",
    "plt.title(\"Distribution of Order Amounts\", size=16)\n",
    "plt1.plot()\n",
    "plt.xlim(xmin = 0, xmax = 1000);\n"
   ]
  },
  {
   "cell_type": "code",
   "execution_count": 179,
   "metadata": {},
   "outputs": [
    {
     "data": {
      "image/png": "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\n",
      "text/plain": [
       "<Figure size 576x432 with 1 Axes>"
      ]
     },
     "metadata": {
      "needs_background": "light"
     },
     "output_type": "display_data"
    }
   ],
   "source": [
    "%matplotlib inline\n",
    "plt1 = df.boxplot(column=['order_amount'], by=['payment_method'], vert=False, figsize=(8,6))\n",
    "#plt.ylim(ymin = 0, ymax = 1000)\n",
    "plt.xlabel(\"Order Amount\")\n",
    "plt.ylabel(\"Payment Type\")\n",
    "plt.title(\"Distribution of Order Amounts by Payment Type\", size=16)\n",
    "plt.suptitle(\"\")\n",
    "plt.xlim(xmin = 0, xmax = 1000)\n",
    "plt1.plot();\n"
   ]
  },
  {
   "cell_type": "code",
   "execution_count": 180,
   "metadata": {},
   "outputs": [
    {
     "data": {
      "text/html": [
       "<div>\n",
       "<style scoped>\n",
       "    .dataframe tbody tr th:only-of-type {\n",
       "        vertical-align: middle;\n",
       "    }\n",
       "\n",
       "    .dataframe tbody tr th {\n",
       "        vertical-align: top;\n",
       "    }\n",
       "\n",
       "    .dataframe thead th {\n",
       "        text-align: right;\n",
       "    }\n",
       "</style>\n",
       "<table border=\"1\" class=\"dataframe\">\n",
       "  <thead>\n",
       "    <tr style=\"text-align: right;\">\n",
       "      <th></th>\n",
       "      <th>order_id</th>\n",
       "      <th>shop_id</th>\n",
       "      <th>user_id</th>\n",
       "      <th>order_amount</th>\n",
       "      <th>total_items</th>\n",
       "      <th>payment_method</th>\n",
       "      <th>created_at</th>\n",
       "    </tr>\n",
       "  </thead>\n",
       "  <tbody>\n",
       "    <tr>\n",
       "      <th>15</th>\n",
       "      <td>16</td>\n",
       "      <td>42</td>\n",
       "      <td>607</td>\n",
       "      <td>704000</td>\n",
       "      <td>2000</td>\n",
       "      <td>credit_card</td>\n",
       "      <td>2017-03-07 4:00:00</td>\n",
       "    </tr>\n",
       "    <tr>\n",
       "      <th>60</th>\n",
       "      <td>61</td>\n",
       "      <td>42</td>\n",
       "      <td>607</td>\n",
       "      <td>704000</td>\n",
       "      <td>2000</td>\n",
       "      <td>credit_card</td>\n",
       "      <td>2017-03-04 4:00:00</td>\n",
       "    </tr>\n",
       "    <tr>\n",
       "      <th>520</th>\n",
       "      <td>521</td>\n",
       "      <td>42</td>\n",
       "      <td>607</td>\n",
       "      <td>704000</td>\n",
       "      <td>2000</td>\n",
       "      <td>credit_card</td>\n",
       "      <td>2017-03-02 4:00:00</td>\n",
       "    </tr>\n",
       "    <tr>\n",
       "      <th>691</th>\n",
       "      <td>692</td>\n",
       "      <td>78</td>\n",
       "      <td>878</td>\n",
       "      <td>154350</td>\n",
       "      <td>6</td>\n",
       "      <td>debit</td>\n",
       "      <td>2017-03-27 22:51:43</td>\n",
       "    </tr>\n",
       "    <tr>\n",
       "      <th>1104</th>\n",
       "      <td>1105</td>\n",
       "      <td>42</td>\n",
       "      <td>607</td>\n",
       "      <td>704000</td>\n",
       "      <td>2000</td>\n",
       "      <td>credit_card</td>\n",
       "      <td>2017-03-24 4:00:00</td>\n",
       "    </tr>\n",
       "    <tr>\n",
       "      <th>1362</th>\n",
       "      <td>1363</td>\n",
       "      <td>42</td>\n",
       "      <td>607</td>\n",
       "      <td>704000</td>\n",
       "      <td>2000</td>\n",
       "      <td>credit_card</td>\n",
       "      <td>2017-03-15 4:00:00</td>\n",
       "    </tr>\n",
       "    <tr>\n",
       "      <th>1436</th>\n",
       "      <td>1437</td>\n",
       "      <td>42</td>\n",
       "      <td>607</td>\n",
       "      <td>704000</td>\n",
       "      <td>2000</td>\n",
       "      <td>credit_card</td>\n",
       "      <td>2017-03-11 4:00:00</td>\n",
       "    </tr>\n",
       "    <tr>\n",
       "      <th>1562</th>\n",
       "      <td>1563</td>\n",
       "      <td>42</td>\n",
       "      <td>607</td>\n",
       "      <td>704000</td>\n",
       "      <td>2000</td>\n",
       "      <td>credit_card</td>\n",
       "      <td>2017-03-19 4:00:00</td>\n",
       "    </tr>\n",
       "    <tr>\n",
       "      <th>1602</th>\n",
       "      <td>1603</td>\n",
       "      <td>42</td>\n",
       "      <td>607</td>\n",
       "      <td>704000</td>\n",
       "      <td>2000</td>\n",
       "      <td>credit_card</td>\n",
       "      <td>2017-03-17 4:00:00</td>\n",
       "    </tr>\n",
       "    <tr>\n",
       "      <th>2153</th>\n",
       "      <td>2154</td>\n",
       "      <td>42</td>\n",
       "      <td>607</td>\n",
       "      <td>704000</td>\n",
       "      <td>2000</td>\n",
       "      <td>credit_card</td>\n",
       "      <td>2017-03-12 4:00:00</td>\n",
       "    </tr>\n",
       "    <tr>\n",
       "      <th>2297</th>\n",
       "      <td>2298</td>\n",
       "      <td>42</td>\n",
       "      <td>607</td>\n",
       "      <td>704000</td>\n",
       "      <td>2000</td>\n",
       "      <td>credit_card</td>\n",
       "      <td>2017-03-07 4:00:00</td>\n",
       "    </tr>\n",
       "    <tr>\n",
       "      <th>2492</th>\n",
       "      <td>2493</td>\n",
       "      <td>78</td>\n",
       "      <td>834</td>\n",
       "      <td>102900</td>\n",
       "      <td>4</td>\n",
       "      <td>debit</td>\n",
       "      <td>2017-03-04 4:37:34</td>\n",
       "    </tr>\n",
       "    <tr>\n",
       "      <th>2835</th>\n",
       "      <td>2836</td>\n",
       "      <td>42</td>\n",
       "      <td>607</td>\n",
       "      <td>704000</td>\n",
       "      <td>2000</td>\n",
       "      <td>credit_card</td>\n",
       "      <td>2017-03-28 4:00:00</td>\n",
       "    </tr>\n",
       "    <tr>\n",
       "      <th>2969</th>\n",
       "      <td>2970</td>\n",
       "      <td>42</td>\n",
       "      <td>607</td>\n",
       "      <td>704000</td>\n",
       "      <td>2000</td>\n",
       "      <td>credit_card</td>\n",
       "      <td>2017-03-28 4:00:00</td>\n",
       "    </tr>\n",
       "    <tr>\n",
       "      <th>3332</th>\n",
       "      <td>3333</td>\n",
       "      <td>42</td>\n",
       "      <td>607</td>\n",
       "      <td>704000</td>\n",
       "      <td>2000</td>\n",
       "      <td>credit_card</td>\n",
       "      <td>2017-03-24 4:00:00</td>\n",
       "    </tr>\n",
       "    <tr>\n",
       "      <th>4056</th>\n",
       "      <td>4057</td>\n",
       "      <td>42</td>\n",
       "      <td>607</td>\n",
       "      <td>704000</td>\n",
       "      <td>2000</td>\n",
       "      <td>credit_card</td>\n",
       "      <td>2017-03-28 4:00:00</td>\n",
       "    </tr>\n",
       "    <tr>\n",
       "      <th>4646</th>\n",
       "      <td>4647</td>\n",
       "      <td>42</td>\n",
       "      <td>607</td>\n",
       "      <td>704000</td>\n",
       "      <td>2000</td>\n",
       "      <td>credit_card</td>\n",
       "      <td>2017-03-02 4:00:00</td>\n",
       "    </tr>\n",
       "    <tr>\n",
       "      <th>4868</th>\n",
       "      <td>4869</td>\n",
       "      <td>42</td>\n",
       "      <td>607</td>\n",
       "      <td>704000</td>\n",
       "      <td>2000</td>\n",
       "      <td>credit_card</td>\n",
       "      <td>2017-03-22 4:00:00</td>\n",
       "    </tr>\n",
       "    <tr>\n",
       "      <th>4882</th>\n",
       "      <td>4883</td>\n",
       "      <td>42</td>\n",
       "      <td>607</td>\n",
       "      <td>704000</td>\n",
       "      <td>2000</td>\n",
       "      <td>credit_card</td>\n",
       "      <td>2017-03-25 4:00:00</td>\n",
       "    </tr>\n",
       "  </tbody>\n",
       "</table>\n",
       "</div>"
      ],
      "text/plain": [
       "      order_id  shop_id  user_id  order_amount  total_items payment_method  \\\n",
       "15          16       42      607        704000         2000    credit_card   \n",
       "60          61       42      607        704000         2000    credit_card   \n",
       "520        521       42      607        704000         2000    credit_card   \n",
       "691        692       78      878        154350            6          debit   \n",
       "1104      1105       42      607        704000         2000    credit_card   \n",
       "1362      1363       42      607        704000         2000    credit_card   \n",
       "1436      1437       42      607        704000         2000    credit_card   \n",
       "1562      1563       42      607        704000         2000    credit_card   \n",
       "1602      1603       42      607        704000         2000    credit_card   \n",
       "2153      2154       42      607        704000         2000    credit_card   \n",
       "2297      2298       42      607        704000         2000    credit_card   \n",
       "2492      2493       78      834        102900            4          debit   \n",
       "2835      2836       42      607        704000         2000    credit_card   \n",
       "2969      2970       42      607        704000         2000    credit_card   \n",
       "3332      3333       42      607        704000         2000    credit_card   \n",
       "4056      4057       42      607        704000         2000    credit_card   \n",
       "4646      4647       42      607        704000         2000    credit_card   \n",
       "4868      4869       42      607        704000         2000    credit_card   \n",
       "4882      4883       42      607        704000         2000    credit_card   \n",
       "\n",
       "               created_at  \n",
       "15     2017-03-07 4:00:00  \n",
       "60     2017-03-04 4:00:00  \n",
       "520    2017-03-02 4:00:00  \n",
       "691   2017-03-27 22:51:43  \n",
       "1104   2017-03-24 4:00:00  \n",
       "1362   2017-03-15 4:00:00  \n",
       "1436   2017-03-11 4:00:00  \n",
       "1562   2017-03-19 4:00:00  \n",
       "1602   2017-03-17 4:00:00  \n",
       "2153   2017-03-12 4:00:00  \n",
       "2297   2017-03-07 4:00:00  \n",
       "2492   2017-03-04 4:37:34  \n",
       "2835   2017-03-28 4:00:00  \n",
       "2969   2017-03-28 4:00:00  \n",
       "3332   2017-03-24 4:00:00  \n",
       "4056   2017-03-28 4:00:00  \n",
       "4646   2017-03-02 4:00:00  \n",
       "4868   2017-03-22 4:00:00  \n",
       "4882   2017-03-25 4:00:00  "
      ]
     },
     "execution_count": 180,
     "metadata": {},
     "output_type": "execute_result"
    }
   ],
   "source": [
    "df[df['order_amount']>100000]"
   ]
  },
  {
   "cell_type": "markdown",
   "metadata": {},
   "source": [
    "There are 301 customers."
   ]
  },
  {
   "cell_type": "code",
   "execution_count": 181,
   "metadata": {},
   "outputs": [
    {
     "data": {
      "text/plain": [
       "301"
      ]
     },
     "execution_count": 181,
     "metadata": {},
     "output_type": "execute_result"
    }
   ],
   "source": [
    "df['user_id'].value_counts().count()"
   ]
  },
  {
   "cell_type": "markdown",
   "metadata": {},
   "source": [
    "### Clean Data"
   ]
  },
  {
   "cell_type": "markdown",
   "metadata": {},
   "source": [
    "The data does not need much wrangling. The IDs are floats and could be casted to integers. However, this will not effect the final solution. So I will not change those."
   ]
  },
  {
   "cell_type": "markdown",
   "metadata": {},
   "source": [
    "Currently, the 'created_at' column is a string data type. So I will convert this to a datetime type and make this a new column."
   ]
  },
  {
   "cell_type": "code",
   "execution_count": 182,
   "metadata": {},
   "outputs": [],
   "source": [
    "df['new_created_at'] = pd.to_datetime(df['created_at'])"
   ]
  },
  {
   "cell_type": "markdown",
   "metadata": {},
   "source": [
    "To get a better understanding of the price of each item, I will calculate the item price and make this a new column."
   ]
  },
  {
   "cell_type": "code",
   "execution_count": 183,
   "metadata": {},
   "outputs": [
    {
     "data": {
      "text/html": [
       "<div>\n",
       "<style scoped>\n",
       "    .dataframe tbody tr th:only-of-type {\n",
       "        vertical-align: middle;\n",
       "    }\n",
       "\n",
       "    .dataframe tbody tr th {\n",
       "        vertical-align: top;\n",
       "    }\n",
       "\n",
       "    .dataframe thead th {\n",
       "        text-align: right;\n",
       "    }\n",
       "</style>\n",
       "<table border=\"1\" class=\"dataframe\">\n",
       "  <thead>\n",
       "    <tr style=\"text-align: right;\">\n",
       "      <th></th>\n",
       "      <th>order_id</th>\n",
       "      <th>shop_id</th>\n",
       "      <th>user_id</th>\n",
       "      <th>order_amount</th>\n",
       "      <th>total_items</th>\n",
       "      <th>payment_method</th>\n",
       "      <th>created_at</th>\n",
       "      <th>new_created_at</th>\n",
       "      <th>item_price</th>\n",
       "    </tr>\n",
       "  </thead>\n",
       "  <tbody>\n",
       "    <tr>\n",
       "      <th>0</th>\n",
       "      <td>1</td>\n",
       "      <td>53</td>\n",
       "      <td>746</td>\n",
       "      <td>224</td>\n",
       "      <td>2</td>\n",
       "      <td>cash</td>\n",
       "      <td>2017-03-13 12:36:56</td>\n",
       "      <td>2017-03-13 12:36:56</td>\n",
       "      <td>112.0</td>\n",
       "    </tr>\n",
       "    <tr>\n",
       "      <th>1</th>\n",
       "      <td>2</td>\n",
       "      <td>92</td>\n",
       "      <td>925</td>\n",
       "      <td>90</td>\n",
       "      <td>1</td>\n",
       "      <td>cash</td>\n",
       "      <td>2017-03-03 17:38:52</td>\n",
       "      <td>2017-03-03 17:38:52</td>\n",
       "      <td>90.0</td>\n",
       "    </tr>\n",
       "    <tr>\n",
       "      <th>2</th>\n",
       "      <td>3</td>\n",
       "      <td>44</td>\n",
       "      <td>861</td>\n",
       "      <td>144</td>\n",
       "      <td>1</td>\n",
       "      <td>cash</td>\n",
       "      <td>2017-03-14 4:23:56</td>\n",
       "      <td>2017-03-14 04:23:56</td>\n",
       "      <td>144.0</td>\n",
       "    </tr>\n",
       "    <tr>\n",
       "      <th>3</th>\n",
       "      <td>4</td>\n",
       "      <td>18</td>\n",
       "      <td>935</td>\n",
       "      <td>156</td>\n",
       "      <td>1</td>\n",
       "      <td>credit_card</td>\n",
       "      <td>2017-03-26 12:43:37</td>\n",
       "      <td>2017-03-26 12:43:37</td>\n",
       "      <td>156.0</td>\n",
       "    </tr>\n",
       "    <tr>\n",
       "      <th>4</th>\n",
       "      <td>5</td>\n",
       "      <td>18</td>\n",
       "      <td>883</td>\n",
       "      <td>156</td>\n",
       "      <td>1</td>\n",
       "      <td>credit_card</td>\n",
       "      <td>2017-03-01 4:35:11</td>\n",
       "      <td>2017-03-01 04:35:11</td>\n",
       "      <td>156.0</td>\n",
       "    </tr>\n",
       "    <tr>\n",
       "      <th>...</th>\n",
       "      <td>...</td>\n",
       "      <td>...</td>\n",
       "      <td>...</td>\n",
       "      <td>...</td>\n",
       "      <td>...</td>\n",
       "      <td>...</td>\n",
       "      <td>...</td>\n",
       "      <td>...</td>\n",
       "      <td>...</td>\n",
       "    </tr>\n",
       "    <tr>\n",
       "      <th>4995</th>\n",
       "      <td>4996</td>\n",
       "      <td>73</td>\n",
       "      <td>993</td>\n",
       "      <td>330</td>\n",
       "      <td>2</td>\n",
       "      <td>debit</td>\n",
       "      <td>2017-03-30 13:47:17</td>\n",
       "      <td>2017-03-30 13:47:17</td>\n",
       "      <td>165.0</td>\n",
       "    </tr>\n",
       "    <tr>\n",
       "      <th>4996</th>\n",
       "      <td>4997</td>\n",
       "      <td>48</td>\n",
       "      <td>789</td>\n",
       "      <td>234</td>\n",
       "      <td>2</td>\n",
       "      <td>cash</td>\n",
       "      <td>2017-03-16 20:36:16</td>\n",
       "      <td>2017-03-16 20:36:16</td>\n",
       "      <td>117.0</td>\n",
       "    </tr>\n",
       "    <tr>\n",
       "      <th>4997</th>\n",
       "      <td>4998</td>\n",
       "      <td>56</td>\n",
       "      <td>867</td>\n",
       "      <td>351</td>\n",
       "      <td>3</td>\n",
       "      <td>cash</td>\n",
       "      <td>2017-03-19 5:42:42</td>\n",
       "      <td>2017-03-19 05:42:42</td>\n",
       "      <td>117.0</td>\n",
       "    </tr>\n",
       "    <tr>\n",
       "      <th>4998</th>\n",
       "      <td>4999</td>\n",
       "      <td>60</td>\n",
       "      <td>825</td>\n",
       "      <td>354</td>\n",
       "      <td>2</td>\n",
       "      <td>credit_card</td>\n",
       "      <td>2017-03-16 14:51:18</td>\n",
       "      <td>2017-03-16 14:51:18</td>\n",
       "      <td>177.0</td>\n",
       "    </tr>\n",
       "    <tr>\n",
       "      <th>4999</th>\n",
       "      <td>5000</td>\n",
       "      <td>44</td>\n",
       "      <td>734</td>\n",
       "      <td>288</td>\n",
       "      <td>2</td>\n",
       "      <td>debit</td>\n",
       "      <td>2017-03-18 15:48:18</td>\n",
       "      <td>2017-03-18 15:48:18</td>\n",
       "      <td>144.0</td>\n",
       "    </tr>\n",
       "  </tbody>\n",
       "</table>\n",
       "<p>5000 rows × 9 columns</p>\n",
       "</div>"
      ],
      "text/plain": [
       "      order_id  shop_id  user_id  order_amount  total_items payment_method  \\\n",
       "0            1       53      746           224            2           cash   \n",
       "1            2       92      925            90            1           cash   \n",
       "2            3       44      861           144            1           cash   \n",
       "3            4       18      935           156            1    credit_card   \n",
       "4            5       18      883           156            1    credit_card   \n",
       "...        ...      ...      ...           ...          ...            ...   \n",
       "4995      4996       73      993           330            2          debit   \n",
       "4996      4997       48      789           234            2           cash   \n",
       "4997      4998       56      867           351            3           cash   \n",
       "4998      4999       60      825           354            2    credit_card   \n",
       "4999      5000       44      734           288            2          debit   \n",
       "\n",
       "               created_at      new_created_at  item_price  \n",
       "0     2017-03-13 12:36:56 2017-03-13 12:36:56       112.0  \n",
       "1     2017-03-03 17:38:52 2017-03-03 17:38:52        90.0  \n",
       "2      2017-03-14 4:23:56 2017-03-14 04:23:56       144.0  \n",
       "3     2017-03-26 12:43:37 2017-03-26 12:43:37       156.0  \n",
       "4      2017-03-01 4:35:11 2017-03-01 04:35:11       156.0  \n",
       "...                   ...                 ...         ...  \n",
       "4995  2017-03-30 13:47:17 2017-03-30 13:47:17       165.0  \n",
       "4996  2017-03-16 20:36:16 2017-03-16 20:36:16       117.0  \n",
       "4997   2017-03-19 5:42:42 2017-03-19 05:42:42       117.0  \n",
       "4998  2017-03-16 14:51:18 2017-03-16 14:51:18       177.0  \n",
       "4999  2017-03-18 15:48:18 2017-03-18 15:48:18       144.0  \n",
       "\n",
       "[5000 rows x 9 columns]"
      ]
     },
     "execution_count": 183,
     "metadata": {},
     "output_type": "execute_result"
    }
   ],
   "source": [
    "df[\"item_price\"] = (df['order_amount']/df['total_items'])\n",
    "df"
   ]
  },
  {
   "cell_type": "markdown",
   "metadata": {},
   "source": [
    "I'm checking for duplicate values. Here, I want to check if there are duplicate values for the order id. There were no duplicate observations. If there were duplicate order IDs that could cause problems which would have resulted in a higher AOV. These would then have to be removed.\n",
    "However, there are no duplicate items."
   ]
  },
  {
   "cell_type": "code",
   "execution_count": 184,
   "metadata": {},
   "outputs": [
    {
     "data": {
      "text/html": [
       "<div>\n",
       "<style scoped>\n",
       "    .dataframe tbody tr th:only-of-type {\n",
       "        vertical-align: middle;\n",
       "    }\n",
       "\n",
       "    .dataframe tbody tr th {\n",
       "        vertical-align: top;\n",
       "    }\n",
       "\n",
       "    .dataframe thead th {\n",
       "        text-align: right;\n",
       "    }\n",
       "</style>\n",
       "<table border=\"1\" class=\"dataframe\">\n",
       "  <thead>\n",
       "    <tr style=\"text-align: right;\">\n",
       "      <th></th>\n",
       "      <th>order_id</th>\n",
       "      <th>shop_id</th>\n",
       "      <th>user_id</th>\n",
       "      <th>order_amount</th>\n",
       "      <th>total_items</th>\n",
       "      <th>payment_method</th>\n",
       "      <th>created_at</th>\n",
       "      <th>new_created_at</th>\n",
       "      <th>item_price</th>\n",
       "    </tr>\n",
       "  </thead>\n",
       "  <tbody>\n",
       "  </tbody>\n",
       "</table>\n",
       "</div>"
      ],
      "text/plain": [
       "Empty DataFrame\n",
       "Columns: [order_id, shop_id, user_id, order_amount, total_items, payment_method, created_at, new_created_at, item_price]\n",
       "Index: []"
      ]
     },
     "execution_count": 184,
     "metadata": {},
     "output_type": "execute_result"
    }
   ],
   "source": [
    "df[df.duplicated(['order_id'])]"
   ]
  },
  {
   "cell_type": "markdown",
   "metadata": {},
   "source": [
    "###  Solution"
   ]
  },
  {
   "cell_type": "markdown",
   "metadata": {},
   "source": [
    "a. Think about what could be going wrong with our calculation. Think about a better way to evaluate this data. \n",
    "\n",
    "Answer: The Average Order Value is derived by taking the average of the order_amount. After exploring the data, we can see that there are some extreme outliers. For instance, there are 17 orders made by user_id 607 that are $700,000. The orders are causing a skew in the Average Order Value, resulting in a higher than normal average.  Since these do not accurately reflect the average order amounts per customer transaction, we should not consider this metric to represent the AOV. \n",
    "\n",
    "b. What metric would you report for this dataset?\n",
    "\n",
    "Answer:\n",
    "A better metric for this data is the median. Since there are several outliers and the order amounts are not distributed normally, the median metric will not be sensitive to outliers.\n"
   ]
  },
  {
   "cell_type": "markdown",
   "metadata": {},
   "source": [
    "c. What is its value?\n",
    "\n",
    "Answer: The median for Order Amount is $284."
   ]
  },
  {
   "cell_type": "code",
   "execution_count": 185,
   "metadata": {},
   "outputs": [
    {
     "data": {
      "text/plain": [
       "284.0"
      ]
     },
     "execution_count": 185,
     "metadata": {},
     "output_type": "execute_result"
    }
   ],
   "source": [
    "df['order_amount'].median()"
   ]
  },
  {
   "cell_type": "markdown",
   "metadata": {},
   "source": [
    "To put this in perspective, over the last 30 days the median for each order has been roughly \\\\$200 - 300. This supports the conclusion that \\\\$3,145 is not reflective of the order values."
   ]
  },
  {
   "cell_type": "code",
   "execution_count": 186,
   "metadata": {},
   "outputs": [
    {
     "data": {
      "text/html": [
       "<div>\n",
       "<style scoped>\n",
       "    .dataframe tbody tr th:only-of-type {\n",
       "        vertical-align: middle;\n",
       "    }\n",
       "\n",
       "    .dataframe tbody tr th {\n",
       "        vertical-align: top;\n",
       "    }\n",
       "\n",
       "    .dataframe thead th {\n",
       "        text-align: right;\n",
       "    }\n",
       "</style>\n",
       "<table border=\"1\" class=\"dataframe\">\n",
       "  <thead>\n",
       "    <tr style=\"text-align: right;\">\n",
       "      <th></th>\n",
       "      <th>new_created_at</th>\n",
       "      <th>order_amount</th>\n",
       "    </tr>\n",
       "  </thead>\n",
       "  <tbody>\n",
       "    <tr>\n",
       "      <th>0</th>\n",
       "      <td>2017-03-01</td>\n",
       "      <td>280.0</td>\n",
       "    </tr>\n",
       "    <tr>\n",
       "      <th>1</th>\n",
       "      <td>2017-03-02</td>\n",
       "      <td>282.0</td>\n",
       "    </tr>\n",
       "    <tr>\n",
       "      <th>2</th>\n",
       "      <td>2017-03-03</td>\n",
       "      <td>282.0</td>\n",
       "    </tr>\n",
       "    <tr>\n",
       "      <th>3</th>\n",
       "      <td>2017-03-04</td>\n",
       "      <td>268.0</td>\n",
       "    </tr>\n",
       "    <tr>\n",
       "      <th>4</th>\n",
       "      <td>2017-03-05</td>\n",
       "      <td>292.0</td>\n",
       "    </tr>\n",
       "    <tr>\n",
       "      <th>5</th>\n",
       "      <td>2017-03-06</td>\n",
       "      <td>262.0</td>\n",
       "    </tr>\n",
       "    <tr>\n",
       "      <th>6</th>\n",
       "      <td>2017-03-07</td>\n",
       "      <td>270.0</td>\n",
       "    </tr>\n",
       "    <tr>\n",
       "      <th>7</th>\n",
       "      <td>2017-03-08</td>\n",
       "      <td>266.0</td>\n",
       "    </tr>\n",
       "    <tr>\n",
       "      <th>8</th>\n",
       "      <td>2017-03-09</td>\n",
       "      <td>306.0</td>\n",
       "    </tr>\n",
       "    <tr>\n",
       "      <th>9</th>\n",
       "      <td>2017-03-10</td>\n",
       "      <td>258.0</td>\n",
       "    </tr>\n",
       "    <tr>\n",
       "      <th>10</th>\n",
       "      <td>2017-03-11</td>\n",
       "      <td>306.0</td>\n",
       "    </tr>\n",
       "    <tr>\n",
       "      <th>11</th>\n",
       "      <td>2017-03-12</td>\n",
       "      <td>306.0</td>\n",
       "    </tr>\n",
       "    <tr>\n",
       "      <th>12</th>\n",
       "      <td>2017-03-13</td>\n",
       "      <td>294.0</td>\n",
       "    </tr>\n",
       "    <tr>\n",
       "      <th>13</th>\n",
       "      <td>2017-03-14</td>\n",
       "      <td>299.5</td>\n",
       "    </tr>\n",
       "    <tr>\n",
       "      <th>14</th>\n",
       "      <td>2017-03-15</td>\n",
       "      <td>272.0</td>\n",
       "    </tr>\n",
       "    <tr>\n",
       "      <th>15</th>\n",
       "      <td>2017-03-16</td>\n",
       "      <td>306.0</td>\n",
       "    </tr>\n",
       "    <tr>\n",
       "      <th>16</th>\n",
       "      <td>2017-03-17</td>\n",
       "      <td>283.0</td>\n",
       "    </tr>\n",
       "    <tr>\n",
       "      <th>17</th>\n",
       "      <td>2017-03-18</td>\n",
       "      <td>316.0</td>\n",
       "    </tr>\n",
       "    <tr>\n",
       "      <th>18</th>\n",
       "      <td>2017-03-19</td>\n",
       "      <td>290.0</td>\n",
       "    </tr>\n",
       "    <tr>\n",
       "      <th>19</th>\n",
       "      <td>2017-03-20</td>\n",
       "      <td>290.0</td>\n",
       "    </tr>\n",
       "    <tr>\n",
       "      <th>20</th>\n",
       "      <td>2017-03-21</td>\n",
       "      <td>260.0</td>\n",
       "    </tr>\n",
       "    <tr>\n",
       "      <th>21</th>\n",
       "      <td>2017-03-22</td>\n",
       "      <td>266.0</td>\n",
       "    </tr>\n",
       "    <tr>\n",
       "      <th>22</th>\n",
       "      <td>2017-03-23</td>\n",
       "      <td>312.0</td>\n",
       "    </tr>\n",
       "    <tr>\n",
       "      <th>23</th>\n",
       "      <td>2017-03-24</td>\n",
       "      <td>306.0</td>\n",
       "    </tr>\n",
       "    <tr>\n",
       "      <th>24</th>\n",
       "      <td>2017-03-25</td>\n",
       "      <td>293.0</td>\n",
       "    </tr>\n",
       "    <tr>\n",
       "      <th>25</th>\n",
       "      <td>2017-03-26</td>\n",
       "      <td>306.0</td>\n",
       "    </tr>\n",
       "    <tr>\n",
       "      <th>26</th>\n",
       "      <td>2017-03-27</td>\n",
       "      <td>284.0</td>\n",
       "    </tr>\n",
       "    <tr>\n",
       "      <th>27</th>\n",
       "      <td>2017-03-28</td>\n",
       "      <td>312.0</td>\n",
       "    </tr>\n",
       "    <tr>\n",
       "      <th>28</th>\n",
       "      <td>2017-03-29</td>\n",
       "      <td>266.0</td>\n",
       "    </tr>\n",
       "    <tr>\n",
       "      <th>29</th>\n",
       "      <td>2017-03-30</td>\n",
       "      <td>280.0</td>\n",
       "    </tr>\n",
       "  </tbody>\n",
       "</table>\n",
       "</div>"
      ],
      "text/plain": [
       "   new_created_at  order_amount\n",
       "0      2017-03-01         280.0\n",
       "1      2017-03-02         282.0\n",
       "2      2017-03-03         282.0\n",
       "3      2017-03-04         268.0\n",
       "4      2017-03-05         292.0\n",
       "5      2017-03-06         262.0\n",
       "6      2017-03-07         270.0\n",
       "7      2017-03-08         266.0\n",
       "8      2017-03-09         306.0\n",
       "9      2017-03-10         258.0\n",
       "10     2017-03-11         306.0\n",
       "11     2017-03-12         306.0\n",
       "12     2017-03-13         294.0\n",
       "13     2017-03-14         299.5\n",
       "14     2017-03-15         272.0\n",
       "15     2017-03-16         306.0\n",
       "16     2017-03-17         283.0\n",
       "17     2017-03-18         316.0\n",
       "18     2017-03-19         290.0\n",
       "19     2017-03-20         290.0\n",
       "20     2017-03-21         260.0\n",
       "21     2017-03-22         266.0\n",
       "22     2017-03-23         312.0\n",
       "23     2017-03-24         306.0\n",
       "24     2017-03-25         293.0\n",
       "25     2017-03-26         306.0\n",
       "26     2017-03-27         284.0\n",
       "27     2017-03-28         312.0\n",
       "28     2017-03-29         266.0\n",
       "29     2017-03-30         280.0"
      ]
     },
     "execution_count": 186,
     "metadata": {},
     "output_type": "execute_result"
    }
   ],
   "source": [
    "df1 = df.groupby(pd.Grouper(key='new_created_at', freq='D')).median().reset_index()\n",
    "df1[['new_created_at','order_amount']]"
   ]
  },
  {
   "cell_type": "code",
   "execution_count": 187,
   "metadata": {},
   "outputs": [
    {
     "data": {
      "image/png": "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\n",
      "text/plain": [
       "<Figure size 720x576 with 1 Axes>"
      ]
     },
     "metadata": {
      "needs_background": "light"
     },
     "output_type": "display_data"
    }
   ],
   "source": [
    "%matplotlib inline\n",
    "plt.figure(figsize=(10,8))\n",
    "\n",
    "plt.plot(df1['new_created_at'],df1['order_amount'], label=\"Median Order Amount per Day\")\n",
    "plt.xlabel(\"Created at Date\")\n",
    "plt.ylabel(\"Median Order Amount\")\n",
    "plt.title(\"Median Order Amount per Day\", size=18, color =\"Red\")\n",
    "plt.xticks(rotation=45)\n",
    "plt.grid(True)\n",
    "plt.axhline(median, color='r', linestyle='dashed', label=\"Overall Median for All Orders\")\n",
    "plt.legend()\n",
    "median = np.median(df['order_amount'])\n",
    "plt.show();"
   ]
  },
  {
   "cell_type": "markdown",
   "metadata": {},
   "source": [
    "## *Question 2*\n"
   ]
  },
  {
   "cell_type": "markdown",
   "metadata": {},
   "source": [
    "For this question you’ll need to use SQL. Follow this [link](https://www.w3schools.com/SQL/TRYSQL.ASP?FILENAME=TRYSQL_SELECT_ALL) to access the data set required for the challenge. Please use queries to answer the following questions. Paste your queries along with your final numerical answers below.\n",
    "\n",
    "a.\tHow many orders were shipped by Speedy Express in total?\n",
    "\n",
    "```SQL\n",
    "    SELECT COUNT(t1.ShipperID)\n",
    "    FROM Orders as t1\n",
    "    JOIN Shippers as t2 ON t1.ShipperID = t2.ShipperID\n",
    "    WHERE ShipperName = \"Speedy Express\"\n",
    "```\n",
    "    \n",
    "    Answer: 54 orders were shipped by Speedy Express.\n",
    "\n",
    "\n",
    "b.\tWhat is the last name of the employee with the most orders?\n",
    "    \n",
    "```SQL    \n",
    "    SELECT LastName, MAX(order_counts)\n",
    "    FROM(\n",
    "        SELECT t2.LastName, COUNT(*) AS order_counts\n",
    "        FROM Orders as t1\n",
    "        JOIN Employees as t2 ON t1.EmployeeID = t2.EmployeeID\n",
    "        GROUP BY t2.EmployeeID\n",
    "        )\n",
    "```        \n",
    "     Answer: Peacock had the most orders.\n",
    "       \n",
    "\n",
    "c.\tWhat product was ordered the most by customers in Germany?\n",
    "```SQL\n",
    "    SELECT ProductName, MAX(count_of_products)\n",
    "    FROM(\n",
    "         SELECT *, COUNT(t1.ProductID) AS count_of_products\n",
    "         FROM OrderDetails as t1\n",
    "         JOIN Orders as t2 ON t1.OrderID = t2.OrderID\n",
    "         JOIN Customers as t3 ON t2.CustomerID = t3.CustomerID\n",
    "         JOIN Products as t4 ON t4.ProductID = t1.ProductID\n",
    "         WHERE t3.Country = \"Germany\"\n",
    "         GROUP BY t1.ProductID\n",
    "      )\n",
    "```      \n",
    "      Answer: Gorgonzola Telino was ordered more frequently by customers.\n",
    "\n"
   ]
  },
  {
   "cell_type": "code",
   "execution_count": null,
   "metadata": {},
   "outputs": [],
   "source": []
  }
 ],
 "metadata": {
  "kernelspec": {
   "display_name": "Python 3",
   "language": "python",
   "name": "python3"
  },
  "language_info": {
   "codemirror_mode": {
    "name": "ipython",
    "version": 3
   },
   "file_extension": ".py",
   "mimetype": "text/x-python",
   "name": "python",
   "nbconvert_exporter": "python",
   "pygments_lexer": "ipython3",
   "version": "3.8.5"
  }
 },
 "nbformat": 4,
 "nbformat_minor": 4
}
